{
 "cells": [
  {
   "cell_type": "code",
   "execution_count": 4,
   "id": "1ab23c25",
   "metadata": {},
   "outputs": [
    {
     "name": "stdout",
     "output_type": "stream",
     "text": [
      "[98, 88, 86, 99, 90, 96, 87, 96, 86, 86, 90, 94, 87, 90, 95, 99, 97]\n",
      "[96529, 119356, 134468, 177936, 103042, 178975, 177381, 96220, 97768, 196473, 175721, 152086, 50091, 102292, 141627, 73103, 84997]\n"
     ]
    }
   ],
   "source": [
    "\n",
    "import random\n",
    " \n",
    "#tfc \n",
    "rand_list=[]\n",
    "n=17\n",
    "for i in range(n):\n",
    "    rand_list.append(random.randint(85,99))\n",
    "print(rand_list)\n",
    "\n",
    "rand_list=[]\n",
    "n=17\n",
    "for i in range(n):\n",
    "    rand_list.append(random.randint(50000,200000))\n",
    "print(rand_list)"
   ]
  },
  {
   "cell_type": "code",
   "execution_count": 5,
   "id": "712ec454",
   "metadata": {},
   "outputs": [
    {
     "name": "stdout",
     "output_type": "stream",
     "text": [
      "[81, 65, 64, 68]\n",
      "[55028, 90146, 189231, 154505]\n"
     ]
    }
   ],
   "source": [
    "#maybe tfc \n",
    "rand_list=[]\n",
    "n=4\n",
    "for i in range(n):\n",
    "    rand_list.append(random.randint(60,85))\n",
    "print(rand_list)\n",
    "\n",
    "rand_list=[]\n",
    "n=4\n",
    "for i in range(n):\n",
    "    rand_list.append(random.randint(50000,200000))\n",
    "print(rand_list)"
   ]
  },
  {
   "cell_type": "code",
   "execution_count": 7,
   "id": "e4b0c997",
   "metadata": {},
   "outputs": [
    {
     "name": "stdout",
     "output_type": "stream",
     "text": [
      "[53, 56, 53, 52, 57, 56, 58, 57, 58, 60, 50, 57, 53, 59]\n",
      "[53465, 116479, 73193, 154018, 115334, 53976, 156544, 189022, 56402, 54915, 193540, 155349, 103467, 67071]\n"
     ]
    }
   ],
   "source": [
    "#not tfc \n",
    "rand_list=[]\n",
    "n=14\n",
    "for i in range(n):\n",
    "    rand_list.append(random.randint(50,60))\n",
    "print(rand_list)\n",
    "\n",
    "rand_list=[]\n",
    "n=14\n",
    "for i in range(n):\n",
    "    rand_list.append(random.randint(50000,200000))\n",
    "print(rand_list)"
   ]
  },
  {
   "cell_type": "code",
   "execution_count": null,
   "id": "3227e998",
   "metadata": {},
   "outputs": [],
   "source": []
  }
 ],
 "metadata": {
  "kernelspec": {
   "display_name": "Python 3 (ipykernel)",
   "language": "python",
   "name": "python3"
  },
  "language_info": {
   "codemirror_mode": {
    "name": "ipython",
    "version": 3
   },
   "file_extension": ".py",
   "mimetype": "text/x-python",
   "name": "python",
   "nbconvert_exporter": "python",
   "pygments_lexer": "ipython3",
   "version": "3.7.7"
  }
 },
 "nbformat": 4,
 "nbformat_minor": 5
}
